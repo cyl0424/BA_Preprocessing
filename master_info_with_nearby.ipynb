{
 "cells": [
  {
   "cell_type": "code",
   "execution_count": 1,
   "id": "c6242376",
   "metadata": {},
   "outputs": [
    {
     "name": "stdout",
     "output_type": "stream",
     "text": [
      "<class 'pandas.core.frame.DataFrame'>\n",
      "RangeIndex: 3261 entries, 0 to 3260\n",
      "Data columns (total 4 columns):\n",
      " #   Column    Non-Null Count  Dtype  \n",
      "---  ------    --------------  -----  \n",
      " 0   stn_id    3261 non-null   object \n",
      " 1   stn_addr  3261 non-null   object \n",
      " 2   stn_lat   3261 non-null   float64\n",
      " 3   stn_lng   3261 non-null   float64\n",
      "dtypes: float64(2), object(2)\n",
      "memory usage: 102.0+ KB\n"
     ]
    }
   ],
   "source": [
    "import pandas as pd\n",
    "\n",
    "# CSV 파일 불러오기\n",
    "master_info_df = pd.read_csv('seoul_bicycle_master_preprocessed.csv', encoding='utf-8')\n",
    "\n",
    "# 데이터프레임 정보 확인\n",
    "master_info_df.info()"
   ]
  },
  {
   "cell_type": "code",
   "execution_count": 2,
   "id": "3567db94",
   "metadata": {},
   "outputs": [
    {
     "data": {
      "text/html": [
       "<div>\n",
       "<style scoped>\n",
       "    .dataframe tbody tr th:only-of-type {\n",
       "        vertical-align: middle;\n",
       "    }\n",
       "\n",
       "    .dataframe tbody tr th {\n",
       "        vertical-align: top;\n",
       "    }\n",
       "\n",
       "    .dataframe thead th {\n",
       "        text-align: right;\n",
       "    }\n",
       "</style>\n",
       "<table border=\"1\" class=\"dataframe\">\n",
       "  <thead>\n",
       "    <tr style=\"text-align: right;\">\n",
       "      <th></th>\n",
       "      <th>stn_id</th>\n",
       "      <th>stn_addr</th>\n",
       "      <th>stn_lat</th>\n",
       "      <th>stn_lng</th>\n",
       "    </tr>\n",
       "  </thead>\n",
       "  <tbody>\n",
       "    <tr>\n",
       "      <th>0</th>\n",
       "      <td>ST-997</td>\n",
       "      <td>서울특별시 양천구 목동중앙로 49</td>\n",
       "      <td>37.534390</td>\n",
       "      <td>126.869598</td>\n",
       "    </tr>\n",
       "    <tr>\n",
       "      <th>1</th>\n",
       "      <td>ST-996</td>\n",
       "      <td>서울특별시 양천구 남부순환로88길5-16</td>\n",
       "      <td>37.524334</td>\n",
       "      <td>126.850548</td>\n",
       "    </tr>\n",
       "    <tr>\n",
       "      <th>2</th>\n",
       "      <td>ST-995</td>\n",
       "      <td>서울특별시 양천구 중앙로 153 공중화장실</td>\n",
       "      <td>37.510597</td>\n",
       "      <td>126.857323</td>\n",
       "    </tr>\n",
       "    <tr>\n",
       "      <th>3</th>\n",
       "      <td>ST-994</td>\n",
       "      <td>서울특별시 양천구 목동서로161</td>\n",
       "      <td>37.529163</td>\n",
       "      <td>126.872749</td>\n",
       "    </tr>\n",
       "    <tr>\n",
       "      <th>4</th>\n",
       "      <td>ST-993</td>\n",
       "      <td>서울특별시 양천구 신월로 342-1 구두수선대19</td>\n",
       "      <td>37.521511</td>\n",
       "      <td>126.857384</td>\n",
       "    </tr>\n",
       "  </tbody>\n",
       "</table>\n",
       "</div>"
      ],
      "text/plain": [
       "   stn_id                     stn_addr    stn_lat     stn_lng\n",
       "0  ST-997           서울특별시 양천구 목동중앙로 49  37.534390  126.869598\n",
       "1  ST-996       서울특별시 양천구 남부순환로88길5-16  37.524334  126.850548\n",
       "2  ST-995      서울특별시 양천구 중앙로 153 공중화장실  37.510597  126.857323\n",
       "3  ST-994            서울특별시 양천구 목동서로161  37.529163  126.872749\n",
       "4  ST-993  서울특별시 양천구 신월로 342-1 구두수선대19  37.521511  126.857384"
      ]
     },
     "execution_count": 2,
     "metadata": {},
     "output_type": "execute_result"
    }
   ],
   "source": [
    "master_info_df.head()"
   ]
  },
  {
   "cell_type": "markdown",
   "id": "c944ba2c",
   "metadata": {},
   "source": [
    "## 가까운 정류소 id 추가하기"
   ]
  },
  {
   "cell_type": "code",
   "execution_count": 3,
   "id": "e0f73330",
   "metadata": {},
   "outputs": [],
   "source": [
    "# pip install haversine"
   ]
  },
  {
   "cell_type": "code",
   "execution_count": 4,
   "id": "a407e093",
   "metadata": {},
   "outputs": [],
   "source": [
    "from scipy.spatial import KDTree\n",
    "from haversine import haversine"
   ]
  },
  {
   "cell_type": "code",
   "execution_count": 5,
   "id": "f8039dad",
   "metadata": {},
   "outputs": [],
   "source": [
    "# 'stn_lat'과 'stn_lng'를 이용해 2차원 공간의 점을 표현하는 리스트를 만듭니다.\n",
    "coords = master_info_df[['stn_lat', 'stn_lng']].values\n",
    "\n",
    "# KDTree 객체를 생성합니다.\n",
    "tree = KDTree(coords)\n",
    "\n",
    "# 각 점에서 가장 가까운 이웃의 인덱스와 그 거리를 구합니다.\n",
    "_, indices = tree.query(coords, k=2)  # k=2로 설정하면 자기 자신과 가장 가까운 이웃을 찾습니다.\n",
    "\n",
    "# 가장 가까운 이웃이 자기 자신이므로, 두 번째로 가까운 이웃의 인덱스를 사용합니다.\n",
    "nearby_indices = indices[:, 1]  # 두 번째로 가까운 이웃의 인덱스입니다.\n",
    "\n",
    "# nearby_id 컬럼을 추가합니다.\n",
    "master_info_df['nearby_id'] = master_info_df.loc[nearby_indices, 'stn_id'].values\n",
    "\n",
    "# nearby_km 컬럼을 추가합니다.\n",
    "master_info_df['nearby_km'] = [haversine(coords[i], coords[nearby_indices[i]]) for i in range(len(coords))]"
   ]
  },
  {
   "cell_type": "code",
   "execution_count": 6,
   "id": "625fa811",
   "metadata": {},
   "outputs": [
    {
     "data": {
      "text/html": [
       "<div>\n",
       "<style scoped>\n",
       "    .dataframe tbody tr th:only-of-type {\n",
       "        vertical-align: middle;\n",
       "    }\n",
       "\n",
       "    .dataframe tbody tr th {\n",
       "        vertical-align: top;\n",
       "    }\n",
       "\n",
       "    .dataframe thead th {\n",
       "        text-align: right;\n",
       "    }\n",
       "</style>\n",
       "<table border=\"1\" class=\"dataframe\">\n",
       "  <thead>\n",
       "    <tr style=\"text-align: right;\">\n",
       "      <th></th>\n",
       "      <th>stn_id</th>\n",
       "      <th>stn_addr</th>\n",
       "      <th>stn_lat</th>\n",
       "      <th>stn_lng</th>\n",
       "      <th>nearby_id</th>\n",
       "      <th>nearby_km</th>\n",
       "    </tr>\n",
       "  </thead>\n",
       "  <tbody>\n",
       "    <tr>\n",
       "      <th>0</th>\n",
       "      <td>ST-997</td>\n",
       "      <td>서울특별시 양천구 목동중앙로 49</td>\n",
       "      <td>37.534390</td>\n",
       "      <td>126.869598</td>\n",
       "      <td>ST-310</td>\n",
       "      <td>0.219206</td>\n",
       "    </tr>\n",
       "    <tr>\n",
       "      <th>1</th>\n",
       "      <td>ST-996</td>\n",
       "      <td>서울특별시 양천구 남부순환로88길5-16</td>\n",
       "      <td>37.524334</td>\n",
       "      <td>126.850548</td>\n",
       "      <td>ST-1008</td>\n",
       "      <td>0.218592</td>\n",
       "    </tr>\n",
       "    <tr>\n",
       "      <th>2</th>\n",
       "      <td>ST-995</td>\n",
       "      <td>서울특별시 양천구 중앙로 153 공중화장실</td>\n",
       "      <td>37.510597</td>\n",
       "      <td>126.857323</td>\n",
       "      <td>ST-1504</td>\n",
       "      <td>0.162262</td>\n",
       "    </tr>\n",
       "    <tr>\n",
       "      <th>3</th>\n",
       "      <td>ST-994</td>\n",
       "      <td>서울특별시 양천구 목동서로161</td>\n",
       "      <td>37.529163</td>\n",
       "      <td>126.872749</td>\n",
       "      <td>ST-427</td>\n",
       "      <td>0.092895</td>\n",
       "    </tr>\n",
       "    <tr>\n",
       "      <th>4</th>\n",
       "      <td>ST-993</td>\n",
       "      <td>서울특별시 양천구 신월로 342-1 구두수선대19</td>\n",
       "      <td>37.521511</td>\n",
       "      <td>126.857384</td>\n",
       "      <td>ST-2761</td>\n",
       "      <td>0.175407</td>\n",
       "    </tr>\n",
       "  </tbody>\n",
       "</table>\n",
       "</div>"
      ],
      "text/plain": [
       "   stn_id                     stn_addr    stn_lat     stn_lng nearby_id  \\\n",
       "0  ST-997           서울특별시 양천구 목동중앙로 49  37.534390  126.869598    ST-310   \n",
       "1  ST-996       서울특별시 양천구 남부순환로88길5-16  37.524334  126.850548   ST-1008   \n",
       "2  ST-995      서울특별시 양천구 중앙로 153 공중화장실  37.510597  126.857323   ST-1504   \n",
       "3  ST-994            서울특별시 양천구 목동서로161  37.529163  126.872749    ST-427   \n",
       "4  ST-993  서울특별시 양천구 신월로 342-1 구두수선대19  37.521511  126.857384   ST-2761   \n",
       "\n",
       "   nearby_km  \n",
       "0   0.219206  \n",
       "1   0.218592  \n",
       "2   0.162262  \n",
       "3   0.092895  \n",
       "4   0.175407  "
      ]
     },
     "execution_count": 6,
     "metadata": {},
     "output_type": "execute_result"
    }
   ],
   "source": [
    "master_info_df.head()"
   ]
  },
  {
   "cell_type": "code",
   "execution_count": 7,
   "id": "996ac63b",
   "metadata": {},
   "outputs": [],
   "source": [
    "master_info_df['stn_gu'] = master_info_df['stn_addr'].str.split().str[1]"
   ]
  },
  {
   "cell_type": "code",
   "execution_count": 8,
   "id": "b28c09b7",
   "metadata": {},
   "outputs": [
    {
     "name": "stdout",
     "output_type": "stream",
     "text": [
      "<class 'pandas.core.frame.DataFrame'>\n",
      "RangeIndex: 3261 entries, 0 to 3260\n",
      "Data columns (total 7 columns):\n",
      " #   Column     Non-Null Count  Dtype  \n",
      "---  ------     --------------  -----  \n",
      " 0   stn_id     3261 non-null   object \n",
      " 1   stn_addr   3261 non-null   object \n",
      " 2   stn_lat    3261 non-null   float64\n",
      " 3   stn_lng    3261 non-null   float64\n",
      " 4   nearby_id  3261 non-null   object \n",
      " 5   nearby_km  3261 non-null   float64\n",
      " 6   stn_gu     3261 non-null   object \n",
      "dtypes: float64(3), object(4)\n",
      "memory usage: 178.5+ KB\n"
     ]
    }
   ],
   "source": [
    "master_info_df.info()"
   ]
  },
  {
   "cell_type": "code",
   "execution_count": 9,
   "id": "d4173082",
   "metadata": {},
   "outputs": [
    {
     "data": {
      "text/html": [
       "<div>\n",
       "<style scoped>\n",
       "    .dataframe tbody tr th:only-of-type {\n",
       "        vertical-align: middle;\n",
       "    }\n",
       "\n",
       "    .dataframe tbody tr th {\n",
       "        vertical-align: top;\n",
       "    }\n",
       "\n",
       "    .dataframe thead th {\n",
       "        text-align: right;\n",
       "    }\n",
       "</style>\n",
       "<table border=\"1\" class=\"dataframe\">\n",
       "  <thead>\n",
       "    <tr style=\"text-align: right;\">\n",
       "      <th></th>\n",
       "      <th>stn_lat</th>\n",
       "      <th>stn_lng</th>\n",
       "      <th>nearby_km</th>\n",
       "    </tr>\n",
       "  </thead>\n",
       "  <tbody>\n",
       "    <tr>\n",
       "      <th>count</th>\n",
       "      <td>3261.000000</td>\n",
       "      <td>3261.000000</td>\n",
       "      <td>3261.000000</td>\n",
       "    </tr>\n",
       "    <tr>\n",
       "      <th>mean</th>\n",
       "      <td>37.548239</td>\n",
       "      <td>126.990918</td>\n",
       "      <td>0.168290</td>\n",
       "    </tr>\n",
       "    <tr>\n",
       "      <th>std</th>\n",
       "      <td>0.052808</td>\n",
       "      <td>0.092007</td>\n",
       "      <td>0.135714</td>\n",
       "    </tr>\n",
       "    <tr>\n",
       "      <th>min</th>\n",
       "      <td>37.403549</td>\n",
       "      <td>126.798042</td>\n",
       "      <td>0.000000</td>\n",
       "    </tr>\n",
       "    <tr>\n",
       "      <th>25%</th>\n",
       "      <td>37.505608</td>\n",
       "      <td>126.915245</td>\n",
       "      <td>0.078958</td>\n",
       "    </tr>\n",
       "    <tr>\n",
       "      <th>50%</th>\n",
       "      <td>37.546898</td>\n",
       "      <td>127.002235</td>\n",
       "      <td>0.144335</td>\n",
       "    </tr>\n",
       "    <tr>\n",
       "      <th>75%</th>\n",
       "      <td>37.578468</td>\n",
       "      <td>127.062752</td>\n",
       "      <td>0.228924</td>\n",
       "    </tr>\n",
       "    <tr>\n",
       "      <th>max</th>\n",
       "      <td>37.692322</td>\n",
       "      <td>127.180756</td>\n",
       "      <td>4.391333</td>\n",
       "    </tr>\n",
       "  </tbody>\n",
       "</table>\n",
       "</div>"
      ],
      "text/plain": [
       "           stn_lat      stn_lng    nearby_km\n",
       "count  3261.000000  3261.000000  3261.000000\n",
       "mean     37.548239   126.990918     0.168290\n",
       "std       0.052808     0.092007     0.135714\n",
       "min      37.403549   126.798042     0.000000\n",
       "25%      37.505608   126.915245     0.078958\n",
       "50%      37.546898   127.002235     0.144335\n",
       "75%      37.578468   127.062752     0.228924\n",
       "max      37.692322   127.180756     4.391333"
      ]
     },
     "execution_count": 9,
     "metadata": {},
     "output_type": "execute_result"
    }
   ],
   "source": [
    "master_info_df.describe()"
   ]
  },
  {
   "cell_type": "markdown",
   "id": "be8952c4",
   "metadata": {},
   "source": [
    "## CSV 파일에 저장"
   ]
  },
  {
   "cell_type": "code",
   "execution_count": 10,
   "id": "03cd5bf9",
   "metadata": {},
   "outputs": [],
   "source": [
    "# CSV 파일로 저장\n",
    "master_info_df.to_csv('master_info_with_nearby.csv', index=False, encoding='utf-8')"
   ]
  },
  {
   "cell_type": "code",
   "execution_count": null,
   "id": "25b21eff",
   "metadata": {},
   "outputs": [],
   "source": []
  }
 ],
 "metadata": {
  "kernelspec": {
   "display_name": "Python 3 (ipykernel)",
   "language": "python",
   "name": "python3"
  },
  "language_info": {
   "codemirror_mode": {
    "name": "ipython",
    "version": 3
   },
   "file_extension": ".py",
   "mimetype": "text/x-python",
   "name": "python",
   "nbconvert_exporter": "python",
   "pygments_lexer": "ipython3",
   "version": "3.11.4"
  }
 },
 "nbformat": 4,
 "nbformat_minor": 5
}
