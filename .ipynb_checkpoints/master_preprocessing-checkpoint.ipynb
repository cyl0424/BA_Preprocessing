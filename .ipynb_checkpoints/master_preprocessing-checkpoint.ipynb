{
 "cells": [
  {
   "cell_type": "code",
   "execution_count": null,
   "id": "b05f4cc6",
   "metadata": {},
   "outputs": [],
   "source": [
    "import json\n",
    "import pandas as pd"
   ]
  },
  {
   "cell_type": "code",
   "execution_count": null,
   "id": "fc7c3c7f",
   "metadata": {},
   "outputs": [],
   "source": [
    "with open('seoul_bicycle_master.json', 'r', encoding='utf-8') as f:\n",
    "    master_data = json.load(f)\n",
    "\n",
    "print(json.dumps(master_data, ensure_ascii=False, indent=\"\\t\"))"
   ]
  },
  {
   "cell_type": "code",
   "execution_count": null,
   "id": "e53c9605",
   "metadata": {},
   "outputs": [],
   "source": [
    "stations_data = master_data[\"DATA\"]\n",
    "\n",
    "print(json.dumps(stations_data, ensure_ascii=False, indent=\"\\t\"))"
   ]
  },
  {
   "cell_type": "code",
   "execution_count": null,
   "id": "1bbf3315",
   "metadata": {},
   "outputs": [],
   "source": [
    "print(len(stations_data))"
   ]
  },
  {
   "cell_type": "code",
   "execution_count": null,
   "id": "e7149ad8",
   "metadata": {},
   "outputs": [],
   "source": [
    "stn_id_addr = []\n",
    "outlier_coord = []\n",
    "\n",
    "for stn in stations_data:\n",
    "    if (stn[\"statn_addr1\"] == \"서울특별시 성동구 테스트 대여소\"):\n",
    "        continue\n",
    "    elif (stn[\"statn_lat\"] == 0.0 or stn[\"statn_lnt\"]==0.0):\n",
    "        outlier_coord.append({\"stn_id\":stn[\"lendplace_id\"], \"stn_addr\": stn[\"statn_addr1\"], \"stn_lat\": stn[\"statn_lat\"], \"stn_lng\": stn[\"statn_lnt\"]})\n",
    "    else:\n",
    "        stn_id_addr.append({\"stn_id\":stn[\"lendplace_id\"], \"stn_addr\": stn[\"statn_addr1\"], \"stn_lat\": stn[\"statn_lat\"], \"stn_lng\": stn[\"statn_lnt\"]})"
   ]
  },
  {
   "cell_type": "code",
   "execution_count": null,
   "id": "52427a81",
   "metadata": {},
   "outputs": [],
   "source": [
    "pd.DataFrame(stn_id_addr)"
   ]
  },
  {
   "cell_type": "code",
   "execution_count": null,
   "id": "faf33382",
   "metadata": {},
   "outputs": [],
   "source": [
    "pd.DataFrame(outlier_coord)"
   ]
  },
  {
   "cell_type": "code",
   "execution_count": null,
   "id": "dc1d3d8f",
   "metadata": {},
   "outputs": [],
   "source": [
    "cnt = 0\n",
    "for stn in stn_id_addr:\n",
    "    if stn[\"stn_addr\"] == \"\":\n",
    "        cnt += 1\n",
    "        print(stn[\"stn_id\"])\n",
    "        print(stn)\n",
    "        stn_id_addr.remove(stn)"
   ]
  },
  {
   "cell_type": "code",
   "execution_count": null,
   "id": "98e447cd",
   "metadata": {},
   "outputs": [],
   "source": [
    "cnt = 0\n",
    "for stn in outlier_coord:\n",
    "    if stn[\"stn_addr\"] == \"\":\n",
    "        cnt += 1\n",
    "        print(stn[\"stn_id\"])\n",
    "        outlier_coord.remove(stn)"
   ]
  },
  {
   "cell_type": "code",
   "execution_count": null,
   "id": "5e984770",
   "metadata": {},
   "outputs": [],
   "source": [
    "stn_id_addr.append({\"stn_id\":\"ST-164\", \"stn_addr\":\"서울 서초구 방배동 907-4\", 'stn_lat': 37.484215, 'stn_lng': 126.996292})\n",
    "\n",
    "data_num = len(stn_id_addr)\n",
    "print(data_num)"
   ]
  },
  {
   "cell_type": "markdown",
   "id": "569c971b",
   "metadata": {},
   "source": [
    "## 주소 -> 좌표 변환"
   ]
  },
  {
   "cell_type": "code",
   "execution_count": null,
   "id": "158cd82d",
   "metadata": {},
   "outputs": [],
   "source": [
    "import requests"
   ]
  },
  {
   "cell_type": "markdown",
   "id": "03f4d88c",
   "metadata": {},
   "source": [
    "### (0) API KEY 세팅"
   ]
  },
  {
   "cell_type": "code",
   "execution_count": null,
   "id": "077acc30",
   "metadata": {},
   "outputs": [],
   "source": [
    "# pip install python-dotenv"
   ]
  },
  {
   "cell_type": "code",
   "execution_count": null,
   "id": "a3367a07",
   "metadata": {},
   "outputs": [],
   "source": [
    "from dotenv import load_dotenv\n",
    "import os\n",
    "\n",
    "load_dotenv()\n",
    "\n",
    "GOOGLE_API_KEY = os.getenv('GOOGLE_API_KEY')\n",
    "KAKAO_API_KEY = os.getenv('KAKAO_API_KEY')"
   ]
  },
  {
   "cell_type": "markdown",
   "id": "48b3bab5",
   "metadata": {},
   "source": [
    "### (1) Google API 사용"
   ]
  },
  {
   "cell_type": "code",
   "execution_count": null,
   "id": "09bc6dfd",
   "metadata": {},
   "outputs": [],
   "source": [
    "# API 키 설정\n",
    "API_KEY = GOOGLE_API_KEY\n",
    "\n",
    "stn_google = outlier_coord\n",
    "\n",
    "trans_error = 0\n",
    "error_list = []\n",
    "okay = 0\n",
    "\n",
    "for stn_data in stn_google:\n",
    "    # 변환할 주소\n",
    "    address = stn_data[\"stn_addr\"]\n",
    "\n",
    "    # Geocoding API 엔드포인트 URL\n",
    "    url = f'https://maps.googleapis.com/maps/api/geocode/json?address={address}&key={API_KEY}&language=ko'\n",
    "\n",
    "    # GET 요청 보내기\n",
    "    response = requests.get(url)\n",
    "\n",
    "    # 응답 확인\n",
    "    if response.status_code == 200:\n",
    "        data = response.json()\n",
    "        if data['status'] == 'OK':\n",
    "            okay += 1\n",
    "            # 변환된 좌표 정보\n",
    "            location = data['results'][0]['geometry']['location']\n",
    "            stn_data[\"stn_lng\"] = location['lng']\n",
    "            stn_data[\"stn_lat\"] = location['lat']\n",
    "        else:\n",
    "            trans_error += 1\n",
    "            print(stn_data)\n",
    "            print(f'주소를 변환할 수 없습니다. 상태: {data[\"status\"]}')\n",
    "            \n",
    "            stn_google.remove(stn_data)\n",
    "            error_list.append(stn_data)\n",
    "    else:\n",
    "        print(f'요청 실패. 상태 코드: {response.status_code}')\n",
    "\n",
    "print(okay)"
   ]
  },
  {
   "cell_type": "code",
   "execution_count": null,
   "id": "1b1e1c8c",
   "metadata": {},
   "outputs": [],
   "source": [
    "print(error_list)"
   ]
  },
  {
   "cell_type": "markdown",
   "id": "3b1dd8ae",
   "metadata": {},
   "source": [
    "### (2) Kakao API 이용\n",
    "(구글로 좌표가 다 찾아져서 이 코드 안씀)"
   ]
  },
  {
   "cell_type": "code",
   "execution_count": null,
   "id": "1ecfde2b",
   "metadata": {},
   "outputs": [],
   "source": [
    "# # REST API 키\n",
    "# REST_API_KEY = KAKAO_API_KEY\n",
    "\n",
    "# # 주소\n",
    "# stn_addr = \"\"\n",
    "\n",
    "# # API 엔드포인트 URL\n",
    "# url = \"https://dapi.kakao.com/v2/local/search/address.json\"\n",
    "\n",
    "# # 헤더 설정\n",
    "# headers = {\n",
    "#     \"Authorization\": f\"KakaoAK {REST_API_KEY}\"\n",
    "# }\n",
    "\n",
    "# addr_request_fail = 0\n",
    "# index_error = 0\n",
    "# data = {}\n",
    "\n",
    "# stn_kakao = error_list\n",
    "\n",
    "# # GET 요청 보내기\n",
    "# for stn_data in stn_kakao:\n",
    "\n",
    "#     # 파라미터 설정\n",
    "#     params = {\n",
    "#         \"query\": stn_data[\"stn_addr\"]\n",
    "#     }\n",
    "\n",
    "#     response = requests.get(url, headers=headers, params=params)\n",
    "\n",
    "#     # 응답 확인\n",
    "#     if response.status_code == 200:\n",
    "#         data = response.json()\n",
    "#         try:\n",
    "#             stn_data[\"lng\"] = data['documents'][0]['x']\n",
    "#             stn_data[\"lat\"] = data['documents'][0]['y']\n",
    "#         except:\n",
    "#             index_error += 1\n",
    "#             print(stn_data)\n",
    "#             print(data)\n",
    "#             print()\n",
    "#     else:\n",
    "#         addr_request_fail += 1\n",
    "#         print(f\"요청 실패: {response.status_code}\")\n",
    "#         print(\"stn_data\")\n",
    "\n",
    "# print(f'addr_request_fail: {addr_request_fail}')"
   ]
  },
  {
   "cell_type": "code",
   "execution_count": null,
   "id": "e58a73c7",
   "metadata": {},
   "outputs": [],
   "source": [
    "# print(index_error)"
   ]
  },
  {
   "cell_type": "code",
   "execution_count": null,
   "id": "e44449fa",
   "metadata": {},
   "outputs": [],
   "source": [
    "# print(stn_kakao)"
   ]
  },
  {
   "cell_type": "markdown",
   "id": "07d37de0",
   "metadata": {},
   "source": [
    "## CSV로 저장"
   ]
  },
  {
   "cell_type": "code",
   "execution_count": null,
   "id": "6b8a9d1f",
   "metadata": {},
   "outputs": [],
   "source": [
    "final_stn_data = stn_id_addr + stn_google\n",
    "\n",
    "print(len(final_stn_data))"
   ]
  },
  {
   "cell_type": "code",
   "execution_count": null,
   "id": "8bfff679",
   "metadata": {},
   "outputs": [],
   "source": [
    "# 리스트를 Pandas DataFrame으로 변환\n",
    "df = pd.DataFrame(final_stn_data)\n",
    "\n",
    "# 원하는 열을 float64로 변환\n",
    "df['stn_lat'] = df['stn_lat'].astype(float)\n",
    "df['stn_lng'] = df['stn_lng'].astype(float)\n",
    "\n",
    "df.info()"
   ]
  },
  {
   "cell_type": "code",
   "execution_count": null,
   "id": "17b89958",
   "metadata": {},
   "outputs": [],
   "source": [
    "# CSV 파일로 저장\n",
    "df.to_csv('seoul_bicycle_master_preprocessed.csv', index=False, encoding='utf-8')"
   ]
  },
  {
   "cell_type": "code",
   "execution_count": null,
   "id": "aa59adfe",
   "metadata": {},
   "outputs": [],
   "source": [
    "# CSV 파일 불러오기\n",
    "df2 = pd.read_csv('seoul_bicycle_master_preprocessed.csv', encoding='utf-8')\n",
    "\n",
    "# 데이터프레임 정보 확인\n",
    "df2.info()"
   ]
  },
  {
   "cell_type": "code",
   "execution_count": null,
   "id": "e8e8bbe7",
   "metadata": {},
   "outputs": [],
   "source": [
    "missing_values = df2[(df2['stn_lat'].isnull()) | (df2['stn_lng'].isnull())]\n",
    "\n",
    "# 결측치가 있는 행을 출력한다.\n",
    "print(missing_values)"
   ]
  },
  {
   "cell_type": "code",
   "execution_count": null,
   "id": "e0a5eee4",
   "metadata": {},
   "outputs": [],
   "source": [
    "df2.info()"
   ]
  },
  {
   "cell_type": "code",
   "execution_count": null,
   "id": "57a96c16",
   "metadata": {},
   "outputs": [],
   "source": []
  }
 ],
 "metadata": {
  "kernelspec": {
   "display_name": "Python 3 (ipykernel)",
   "language": "python",
   "name": "python3"
  },
  "language_info": {
   "codemirror_mode": {
    "name": "ipython",
    "version": 3
   },
   "file_extension": ".py",
   "mimetype": "text/x-python",
   "name": "python",
   "nbconvert_exporter": "python",
   "pygments_lexer": "ipython3",
   "version": "3.11.4"
  }
 },
 "nbformat": 4,
 "nbformat_minor": 5
}
